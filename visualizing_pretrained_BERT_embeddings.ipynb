{
 "cells": [
  {
   "cell_type": "markdown",
   "metadata": {},
   "source": [
    "<h1> Visualizing Pretrained BERT embeddings in Tensorboard </h1>"
   ]
  },
  {
   "cell_type": "code",
   "execution_count": 1,
   "metadata": {},
   "outputs": [],
   "source": [
    "# ( Optional) \n",
    "# The embeddings were first serialized on disk and then loaded back using pickle\n",
    "import pickle\n",
    "\n",
    "def save_to_disk(path, objs):\n",
    "  # Saving the objects:\n",
    "  with open(path, 'wb') as f:\n",
    "      pickle.dump(objs, f)\n",
    "\n",
    "def load_from_disk(path):\n",
    "  # Getting back the objects:\n",
    "  with open(path, \"rb\") as f:\n",
    "    return pickle.load(f)"
   ]
  },
  {
   "cell_type": "code",
   "execution_count": 2,
   "metadata": {},
   "outputs": [
    {
     "data": {
      "text/plain": [
       "((3744, 1024), (3744,))"
      ]
     },
     "execution_count": 2,
     "metadata": {},
     "output_type": "execute_result"
    }
   ],
   "source": [
    "base_path = \"./emb_data\"\n",
    "path = base_path + \"/embeddings.pkl\"\n",
    "path_lbls = base_path + \"/emb_labels.pkl\"\n",
    "\n",
    "embeddings =  load_from_disk(path)[0]\n",
    "emb_labels = load_from_disk(path_lbls)[0]\n",
    "# Here embeddings are a 2D array/tensor, lables can be strings or numeric \n",
    "embeddings.shape, emb_labels.shape"
   ]
  },
  {
   "cell_type": "code",
   "execution_count": 6,
   "metadata": {},
   "outputs": [],
   "source": [
    "import tensorflow as tf\n",
    "from tensorflow.contrib.tensorboard.plugins import projector\n",
    "\n",
    "sess = tf.InteractiveSession()\n",
    "\n",
    "with tf.device(\"/cpu:0\"):\n",
    "    # Pass 2D array-embeddings to createa a tensor     \n",
    "    tf_embedding = tf.Variable(embeddings, trainable = False, name = \"embedding\")\n",
    "\n",
    "max_size = embeddings.shape[0]\n",
    "tf.global_variables_initializer().run()\n",
    "# Output path to save weights\n",
    "path = \"./tensorboard\"\n",
    "saver = tf.train.Saver()\n",
    "writer = tf.summary.FileWriter(path, sess.graph)\n",
    "config = projector.ProjectorConfig()\n",
    "embed = config.embeddings.add()\n",
    "embed.tensor_name = \"embedding\"\n",
    "# This file needs to be there on disk to pick the corresponding labels against each embedding\n",
    "embed.metadata_path = \"metadata.tsv\"\n",
    "projector.visualize_embeddings(writer, config)\n",
    "# Save tensorflow embeddings as a model checkpoint\n",
    "saver.save(sess, path +'/model.ckpt' , global_step=max_size)\n",
    "sess.close()"
   ]
  },
  {
   "cell_type": "markdown",
   "metadata": {},
   "source": [
    "<h3>Creating Labels \".tsv\" file</h3>"
   ]
  },
  {
   "cell_type": "code",
   "execution_count": 7,
   "metadata": {},
   "outputs": [],
   "source": [
    "# Open a file with access mode 'a' i.e., append\n",
    "with open(\"./tensorboard/metadata.tsv\", \"a\") as file_object:\n",
    "    for x in emb_labels:\n",
    "        file_object.write(x + \"\\n\")"
   ]
  },
  {
   "cell_type": "markdown",
   "metadata": {},
   "source": [
    "<h2>Optionally redirect ngork to expose local tensorboard visualization to public </h2>"
   ]
  },
  {
   "cell_type": "code",
   "execution_count": 8,
   "metadata": {},
   "outputs": [],
   "source": [
    "get_ipython().system_raw('./ngrok http 8080 &')"
   ]
  },
  {
   "cell_type": "code",
   "execution_count": 8,
   "metadata": {},
   "outputs": [],
   "source": [
    "! curl -s http://localhost:4040/api/tunnels | python3 -c \\\n",
    "    \"import sys, json; print(json.load(sys.stdin)['tunnels'][0]['public_url'])\""
   ]
  },
  {
   "cell_type": "code",
   "execution_count": null,
   "metadata": {},
   "outputs": [],
   "source": []
  }
 ],
 "metadata": {
  "kernelspec": {
   "display_name": "venv_tf_1_14",
   "language": "python",
   "name": "venv_tf_1_14"
  },
  "language_info": {
   "codemirror_mode": {
    "name": "ipython",
    "version": 3
   },
   "file_extension": ".py",
   "mimetype": "text/x-python",
   "name": "python",
   "nbconvert_exporter": "python",
   "pygments_lexer": "ipython3",
   "version": "3.6.9"
  }
 },
 "nbformat": 4,
 "nbformat_minor": 4
}
